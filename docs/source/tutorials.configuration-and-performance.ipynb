{
 "cells": [
  {
   "cell_type": "markdown",
   "id": "3c206aaa-e894-4a55-8250-912317d0c52f",
   "metadata": {},
   "source": [
    "# CytoTable Configuration and Performance\n",
    "\n",
    "CytoTable performance may vary depending on the size and location of source data, available system resources, and how CytoTable is configured.\n",
    "This tutorial will provide light guidance on how to configure Parsl for CytoTable based on your system resources.\n",
    "\n",
    "CytoTable uses [Parsl](https://parsl.readthedocs.io/en/stable/index.html) to efficiently process data through multi-step partially concurrent workflows and optional parallelism.\n",
    "Parsl provides a number of different configuration options which may be specified to CytoTable through the `parsl_config` parameter.\n",
    "\n",
    "For example:\n",
    "\n",
    "```python\n",
    "from parsl.config import Config\n",
    "from parsl.executors import ThreadPoolExecutor\n",
    "\n",
    "convert(\n",
    "        source_path=\"source_data_path\",\n",
    "        dest_path=\"destination_data_path\",\n",
    "        dest_datatype=\"parquet\",\n",
    "        # Here we use a Config and ThreadPoolExecutor object\n",
    "        # to configure Parsl for threaded execution with defaults.\n",
    "        parsl_config=Config(\n",
    "            executors=[\n",
    "                ThreadPoolExecutor()\n",
    "            ]\n",
    "        )\n",
    "    )\n",
    "```\n",
    "\n",
    "For more information, Parsl also provides [in-depth documentation on configuration](https://parsl.readthedocs.io/en/stable/userguide/index.html).\n",
    "\n",
    "## Additional Performance Considerations\n",
    "\n",
    "In addition to Parsl, a number of other elements may impact the performance you find with CytoTable.\n",
    "These are presented in no particular order in terms of impact (this will depend largely on the data sources and system resources available which have a wide variation).\n",
    "\n",
    "- __Cloud-based vs local data sources__: CytoTable provides source data capabilities through [cloudpathlib](https://cloudpathlib.drivendata.org/stable/), a package for interacting with cloud data storage through a unified API. Cloud-based data sources will generally be processed more slowly than locally available data in CytoTable.\n",
    "- __Data chunk sizes__: CytoTable uses the `chunk_size` parameter to create row-wise \"chunks\" of data operations which limits the total amount of memory used by procedures ([see here for more information](overview.md#data-chunking)). Larger chunk sizes can sometimes lead to faster time performance and larger memory footprints. Smaller chunk sizes can lead to slower time performance and smaller memory footprints.\n",
    "- __PyArrow settings__: CytoTable makes use of [PyArrow](https://arrow.apache.org/docs/python/index.html) for core in-memory data work for performance and integrative capabilities.\n",
    "    - PyArrow provides the ability to use non-default memory allocation which can sometimes enable greater performance. CytoTable uses the default memory allocation selection performed by PyArrow. One may use the [`ARROW_DEFAULT_MEMORY_POOL`](https://arrow.apache.org/docs/cpp/env_vars.html#envvar-ARROW_DEFAULT_MEMORY_POOL) environment variable to specify which memory allocator is used by CytoTable (`jemalloc`, `mimalloc`, or `(C)malloc`)([see here for more](architecture.technical.md#arrow-memory-allocator-selection)).\n",
    "    - PyArrow operations through CytoTable use memory mapping (for example [`parquet.read_table(memory_mapped=...)`](https://arrow.apache.org/docs/python/generated/pyarrow.parquet.read_table.html)) and may be turned off through the `CYTOTABLE_ARROW_USE_MEMORY_MAPPING` environment variable ([see here for more](architecture.technical.md#arrow-memory-mapping-selection)).\n",
    "- __DuckDB settings__: CytoTable uses [DuckDB](https://duckdb.org/docs/) to perform SQL-based data processing. DuckDB provides internal concurrency through the use of threads ([see here for more](https://duckdb.org/docs/connect/concurrency.html)). The number of threads defaults to the number of processors available on the system. The number of threads used by DuckDB may be explicitly set through the `CYTOTABLE_MAX_THREADS` environment variable. Please note: DuckDB is not used to write data in parallel through CytoTable."
   ]
  },
  {
   "cell_type": "markdown",
   "id": "4bbf8130-0848-424b-a506-f8e3a24a9a4e",
   "metadata": {},
   "source": [
    "## Definitions\n",
    "\n",
    "We provide the following definitions to help clarify this content.\n",
    "\n",
    "### Concurrency and Parallelism\n",
    "- [Concurrency](https://en.wikipedia.org/wiki/Concurrency_(computer_science)): the structure of computer program which allows for non-sequential execution without affecting the outcome.\n",
    "- [Parallelism](https://en.wikipedia.org/wiki/Parallel_computing): a type of computation in which more than one calculation may take place at the same time.\n",
    "\n",
    "### Processors and Threads\n",
    "\n",
    "- [Processor](https://en.wikipedia.org/wiki/Central_processing_unit): a computer resource used to execute instructions from computer software. Computers may have one or many processors.\n",
    "- [Thread](https://en.wikipedia.org/wiki/Thread_(computing)): a sequence of computer software instructions executed by a processor. A processor may have one or many threads. A processor will only make progress one thread at a time.\n",
    "- [Multiprocessing](https://en.wikipedia.org/wiki/Multiprocessing): the use of more than one processor to accomplish a software task.\n",
    "- [Multithreading](https://en.wikipedia.org/wiki/Multithreading_(computer_architecture)): the use of more than one thread to accomplish a software task.\n",
    "\n",
    "### Parsl\n",
    "\n",
    "- [Parsl Executors](https://parsl.readthedocs.io/en/stable/stubs/parsl.executors.base.ParslExecutor.html): abstractions which represent computer resources available to accomplish tasks through Parsl.\n",
    "- [`parsl.executors.ThreadPoolExecutor`](https://parsl.readthedocs.io/en/stable/stubs/parsl.executors.ThreadPoolExecutor.html): a  Parsl executor with multithreading capabilities.\n",
    "- [`parsl.executors.HighThroughputExecutor`](https://parsl.readthedocs.io/en/stable/stubs/parsl.executors.HighThroughputExecutor.html): a Parsl executor with multiprocessing capabilities."
   ]
  },
  {
   "cell_type": "markdown",
   "id": "40f6177d-e31d-40ce-9bdb-62c64bf38ff5",
   "metadata": {},
   "source": [
    "### Heuristics\n",
    "\n",
    "Configuration for Parsl \n"
   ]
  }
 ],
 "metadata": {
  "kernelspec": {
   "display_name": "Python 3 (ipykernel)",
   "language": "python",
   "name": "python3"
  },
  "language_info": {
   "codemirror_mode": {
    "name": "ipython",
    "version": 3
   },
   "file_extension": ".py",
   "mimetype": "text/x-python",
   "name": "python",
   "nbconvert_exporter": "python",
   "pygments_lexer": "ipython3",
   "version": "3.9.19"
  }
 },
 "nbformat": 4,
 "nbformat_minor": 5
}
